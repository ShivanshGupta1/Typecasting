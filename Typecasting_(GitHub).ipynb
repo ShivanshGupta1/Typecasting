{
  "nbformat": 4,
  "nbformat_minor": 0,
  "metadata": {
    "colab": {
      "name": "Typecasting (GitHub).ipynb",
      "provenance": [],
      "authorship_tag": "ABX9TyMhUVQ7f3970BZCTZxc3ADi",
      "include_colab_link": true
    },
    "kernelspec": {
      "name": "python3",
      "display_name": "Python 3"
    }
  },
  "cells": [
    {
      "cell_type": "markdown",
      "metadata": {
        "id": "view-in-github",
        "colab_type": "text"
      },
      "source": [
        "<a href=\"https://colab.research.google.com/github/ShivanshGupta1/Typecasting/blob/main/Typecasting_(GitHub).ipynb\" target=\"_parent\"><img src=\"https://colab.research.google.com/assets/colab-badge.svg\" alt=\"Open In Colab\"/></a>"
      ]
    },
    {
      "cell_type": "code",
      "metadata": {
        "id": "HDjRmcHutqKM"
      },
      "source": [
        "#Typecasting - Changing from 1 data type to another\n",
        "a = '10'\n",
        "print(type(a))\n",
        "a = int(a)\n",
        "print(type(a))"
      ],
      "execution_count": null,
      "outputs": []
    },
    {
      "cell_type": "code",
      "metadata": {
        "id": "GpmQ6GymuPYx"
      },
      "source": [
        "a = 9\n",
        "print(type(a))\n",
        "a = str(a)\n",
        "print(type(a))"
      ],
      "execution_count": null,
      "outputs": []
    },
    {
      "cell_type": "code",
      "metadata": {
        "id": "WkRmqdGyuVrT"
      },
      "source": [
        "a = 7\n",
        "print(type(a))\n",
        "a = float(a)\n",
        "print(type(a))"
      ],
      "execution_count": null,
      "outputs": []
    },
    {
      "cell_type": "code",
      "metadata": {
        "id": "Hx4_4jdWuW9S"
      },
      "source": [
        "b = 3.37\n",
        "print(type(b))\n",
        "b = int(b)\n",
        "print(type(b))\n",
        "print(b)"
      ],
      "execution_count": null,
      "outputs": []
    },
    {
      "cell_type": "code",
      "metadata": {
        "id": "6jnUDHnxuY0Z"
      },
      "source": [
        "a = 0\n",
        "b = 'd'\n",
        "a = bool(a)\n",
        "b= bool(b)\n",
        "print(type(a))\n",
        "print(type(b))\n",
        "print(a,b)"
      ],
      "execution_count": null,
      "outputs": []
    }
  ]
}